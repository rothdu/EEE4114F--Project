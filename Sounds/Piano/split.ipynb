{
 "cells": [
  {
   "cell_type": "code",
   "execution_count": 7,
   "metadata": {},
   "outputs": [],
   "source": [
    "import librosa\n",
    "from scipy.io import wavfile"
   ]
  },
  {
   "cell_type": "code",
   "execution_count": 12,
   "metadata": {},
   "outputs": [
    {
     "name": "stdout",
     "output_type": "stream",
     "text": [
      "30323\n"
     ]
    }
   ],
   "source": [
    "audio, fs = librosa.load(\"piano.wav\", mono=True)\n",
    "\n",
    "audio = audio[1000:-1000]\n",
    "\n",
    "numsnippets = 90\n",
    "\n",
    "numsamples = int(len(audio)/numsnippets)\n",
    "print(numsamples)\n",
    "n = 0\n",
    "for i in range(numsnippets):\n",
    "    audiosnippet = audio[n:n+numsamples]\n",
    "    n+= numsamples\n",
    "    wavfile.write(\"Piano\" + str(i) + \".wav\", fs, audiosnippet)\n"
   ]
  }
 ],
 "metadata": {
  "kernelspec": {
   "display_name": "venv",
   "language": "python",
   "name": "python3"
  },
  "language_info": {
   "codemirror_mode": {
    "name": "ipython",
    "version": 3
   },
   "file_extension": ".py",
   "mimetype": "text/x-python",
   "name": "python",
   "nbconvert_exporter": "python",
   "pygments_lexer": "ipython3",
   "version": "3.11.2"
  }
 },
 "nbformat": 4,
 "nbformat_minor": 2
}
