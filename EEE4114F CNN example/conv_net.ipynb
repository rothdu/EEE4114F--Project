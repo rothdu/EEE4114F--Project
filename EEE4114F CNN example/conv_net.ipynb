{
 "cells": [
  {
   "cell_type": "code",
   "execution_count": 1,
   "metadata": {},
   "outputs": [],
   "source": [
    "import numpy as np\n",
    "import torch\n",
    "import torchvision\n",
    "import torchvision.transforms as transforms\n",
    "import torch.nn as nn\n",
    "import torch.nn.functional as F\n",
    "import torch.optim as optim\n",
    "from torch.utils.data import SubsetRandomSampler\n",
    "from torch.utils.data import DataLoader\n",
    "import matplotlib.pyplot as plt"
   ]
  },
  {
   "cell_type": "code",
   "execution_count": 2,
   "metadata": {},
   "outputs": [],
   "source": [
    "BATCH_SIZE = 32\n",
    "MAX_EPOCHS = 2"
   ]
  },
  {
   "cell_type": "code",
   "execution_count": 3,
   "metadata": {},
   "outputs": [
    {
     "name": "stdout",
     "output_type": "stream",
     "text": [
      "Files already downloaded and verified\n",
      "Files already downloaded and verified\n"
     ]
    }
   ],
   "source": [
    "transform = transforms.Compose(\n",
    "    [transforms.Grayscale(),\n",
    "     transforms.ToTensor(),\n",
    "     transforms.Normalize((0.5), (0.5))])\n",
    "\n",
    "train_indices = torch.arange(1000, 50000)\n",
    "valid_indices = torch.arange(0, 1000)\n",
    "\n",
    "train_sampler = SubsetRandomSampler(train_indices)\n",
    "valid_sampler = SubsetRandomSampler(valid_indices)\n",
    "\n",
    "train_dataset = torchvision.datasets.CIFAR10(root='./data', \n",
    "                               train=True, \n",
    "                               transform=transform,\n",
    "                               download=True)\n",
    "\n",
    "val_dataset = torchvision.datasets.CIFAR10(root='./data', \n",
    "                               train=True, \n",
    "                               transform=transform,\n",
    "                               download=False)\n",
    "\n",
    "train_loader = DataLoader(train_dataset,\n",
    "                          batch_size=BATCH_SIZE,\n",
    "                          num_workers=0,\n",
    "                          sampler=train_sampler)\n",
    "\n",
    "val_loader = DataLoader(val_dataset,\n",
    "                          batch_size=BATCH_SIZE,\n",
    "                          num_workers=0,\n",
    "                          sampler=valid_sampler)\n",
    "\n",
    "test_dataset = torchvision.datasets.CIFAR10(root='./data', train=False,\n",
    "                                       download=True, transform=transform)\n",
    "test_loader = DataLoader(test_dataset, batch_size=BATCH_SIZE,\n",
    "                                         shuffle=False, num_workers=0)\n",
    "\n",
    "classes = ('plane', 'car', 'bird', 'cat',\n",
    "           'deer', 'dog', 'frog', 'horse', 'ship', 'truck')"
   ]
  },
  {
   "cell_type": "code",
   "execution_count": 4,
   "metadata": {},
   "outputs": [],
   "source": [
    "class Model(nn.Module):\n",
    "    def __init__(self):\n",
    "        super(Model, self).__init__()\n",
    "        self.conv1 = nn.Conv2d(1, 6, 3)\n",
    "        self.conv2 = nn.Conv2d(6, 16, 3)\n",
    "        # an affine operation: y = Wx + b\n",
    "        self.fc1 = nn.Linear(16 * 6 * 6, 120)  # 6*6 from image dimension\n",
    "        self.fc2 = nn.Linear(120, 84)\n",
    "        self.fc3 = nn.Linear(84, 10)\n",
    "\n",
    "    def forward(self, x):\n",
    "        # Max pooling over a (2, 2) window\n",
    "        x = F.max_pool2d(F.relu(self.conv1(x)), (2, 2))\n",
    "        # If the size is a square you can only specify a single number\n",
    "        x = F.max_pool2d(F.relu(self.conv2(x)), 2)\n",
    "        x = x.view(-1, self.num_flat_features(x))\n",
    "        x = F.relu(self.fc1(x))\n",
    "        x = F.relu(self.fc2(x))\n",
    "        x = self.fc3(x)\n",
    "        return x\n",
    "\n",
    "    def num_flat_features(self, x):\n",
    "        size = x.size()[1:]  # all dimensions except the batch dimension\n",
    "        num_features = 1\n",
    "        for s in size:\n",
    "            num_features *= s\n",
    "        return num_features\n"
   ]
  },
  {
   "cell_type": "code",
   "execution_count": 5,
   "metadata": {},
   "outputs": [],
   "source": [
    "model = Model()\n",
    "criterion = nn.CrossEntropyLoss()\n",
    "optimizer = optim.Adam(model.parameters(), lr=0.001)"
   ]
  },
  {
   "cell_type": "code",
   "execution_count": 6,
   "metadata": {},
   "outputs": [],
   "source": [
    "def evaluate(model, loader, n_examples):\n",
    "    model.eval()\n",
    "    correct = 0\n",
    "    total = 0\n",
    "    running_loss = 0.0\n",
    "    with torch.no_grad():\n",
    "        for data in loader:\n",
    "            inputs, labels = data\n",
    "            outputs = model(inputs)\n",
    "            loss = criterion(outputs, labels)\n",
    "            _, predicted = torch.max(outputs.data, 1)\n",
    "            total += labels.size(0)\n",
    "            correct += (predicted == labels).sum().item()\n",
    "            \n",
    "            running_loss += loss.item()\n",
    "        \n",
    "    # Return mean loss, accuracy\n",
    "    return running_loss / len(loader), correct / total"
   ]
  },
  {
   "cell_type": "code",
   "execution_count": 7,
   "metadata": {},
   "outputs": [
    {
     "name": "stdout",
     "output_type": "stream",
     "text": [
      "Starting Epoch: 1\n",
      "# mini-batch 100\n",
      "train loss: 2.1648554742336272\n",
      "validation loss: 2.014345597475767 validation accuracy: 0.239\n",
      "\n",
      "# mini-batch 200\n",
      "train loss: 2.0010694134235383\n",
      "validation loss: 1.8763513416051865 validation accuracy: 0.302\n",
      "\n",
      "# mini-batch 300\n",
      "train loss: 1.8799220526218414\n",
      "validation loss: 1.8470983877778053 validation accuracy: 0.335\n",
      "\n",
      "# mini-batch 400\n",
      "train loss: 1.7875312995910644\n",
      "validation loss: 1.699901770800352 validation accuracy: 0.397\n",
      "\n",
      "# mini-batch 500\n",
      "train loss: 1.7125228226184845\n",
      "validation loss: 1.69561180844903 validation accuracy: 0.399\n",
      "\n",
      "# mini-batch 600\n",
      "train loss: 1.6561510038375855\n",
      "validation loss: 1.6040781028568745 validation accuracy: 0.407\n",
      "\n",
      "# mini-batch 700\n",
      "train loss: 1.606692898273468\n",
      "validation loss: 1.5567608810961246 validation accuracy: 0.446\n",
      "\n",
      "# mini-batch 800\n",
      "train loss: 1.5816352593898773\n",
      "validation loss: 1.5370026491582394 validation accuracy: 0.441\n",
      "\n",
      "# mini-batch 900\n",
      "train loss: 1.5837346041202545\n",
      "validation loss: 1.5268699489533901 validation accuracy: 0.451\n",
      "\n",
      "# mini-batch 1000\n",
      "train loss: 1.5590482246875763\n",
      "validation loss: 1.4802300706505775 validation accuracy: 0.474\n",
      "\n",
      "# mini-batch 1100\n",
      "train loss: 1.531019161939621\n",
      "validation loss: 1.4730783812701702 validation accuracy: 0.48\n",
      "\n",
      "# mini-batch 1200\n",
      "train loss: 1.5204740512371062\n",
      "validation loss: 1.4805316105484962 validation accuracy: 0.465\n",
      "\n",
      "# mini-batch 1300\n",
      "train loss: 1.5084619575738907\n",
      "validation loss: 1.4665790908038616 validation accuracy: 0.477\n",
      "\n",
      "# mini-batch 1400\n",
      "train loss: 1.4652856910228729\n",
      "validation loss: 1.4304720498621464 validation accuracy: 0.498\n",
      "\n",
      "# mini-batch 1500\n",
      "train loss: 1.4852339947223663\n",
      "validation loss: 1.4488826543092728 validation accuracy: 0.493\n",
      "\n",
      "Starting Epoch: 2\n",
      "# mini-batch 100\n",
      "train loss: 1.3765077257156373\n",
      "validation loss: 1.4165428020060062 validation accuracy: 0.492\n",
      "\n",
      "# mini-batch 200\n",
      "train loss: 1.4395599579811096\n",
      "validation loss: 1.3887350298464298 validation accuracy: 0.502\n",
      "\n",
      "# mini-batch 300\n",
      "train loss: 1.4621331584453583\n",
      "validation loss: 1.4013760015368462 validation accuracy: 0.506\n",
      "\n",
      "# mini-batch 400\n",
      "train loss: 1.3830515480041503\n",
      "validation loss: 1.3597175627946854 validation accuracy: 0.522\n",
      "\n",
      "# mini-batch 500\n",
      "train loss: 1.3973482060432434\n",
      "validation loss: 1.3480408191680908 validation accuracy: 0.509\n",
      "\n",
      "# mini-batch 600\n",
      "train loss: 1.3449914461374284\n",
      "validation loss: 1.3627555649727583 validation accuracy: 0.505\n",
      "\n",
      "# mini-batch 700\n",
      "train loss: 1.3661646151542663\n",
      "validation loss: 1.319669695571065 validation accuracy: 0.515\n",
      "\n",
      "# mini-batch 800\n",
      "train loss: 1.3469666415452957\n",
      "validation loss: 1.316376693546772 validation accuracy: 0.52\n",
      "\n",
      "# mini-batch 900\n",
      "train loss: 1.3431488454341889\n",
      "validation loss: 1.327426340430975 validation accuracy: 0.521\n",
      "\n",
      "# mini-batch 1000\n",
      "train loss: 1.3218373245000838\n",
      "validation loss: 1.3096413873136044 validation accuracy: 0.516\n",
      "\n",
      "# mini-batch 1100\n",
      "train loss: 1.3174666112661362\n",
      "validation loss: 1.33102186024189 validation accuracy: 0.514\n",
      "\n",
      "# mini-batch 1200\n",
      "train loss: 1.3237855702638626\n",
      "validation loss: 1.2877686489373446 validation accuracy: 0.525\n",
      "\n",
      "# mini-batch 1300\n",
      "train loss: 1.305975449681282\n",
      "validation loss: 1.3235548604279757 validation accuracy: 0.523\n",
      "\n",
      "# mini-batch 1400\n",
      "train loss: 1.3016655081510544\n",
      "validation loss: 1.3432638105005026 validation accuracy: 0.518\n",
      "\n",
      "# mini-batch 1500\n",
      "train loss: 1.2921038717031479\n",
      "validation loss: 1.2847561556845903 validation accuracy: 0.521\n",
      "\n",
      "Finished Training\n"
     ]
    }
   ],
   "source": [
    "loss_history = {\n",
    "        'train_loss': [],\n",
    "        'val_loss': []\n",
    "}\n",
    "\n",
    "for epoch in range(MAX_EPOCHS):  # loop over the dataset multiple times\n",
    "    print(\"Starting Epoch: {}\".format(epoch+1))\n",
    "    \n",
    "    running_loss = 0.0\n",
    "    \n",
    "    for i, data in enumerate(train_loader, 0):\n",
    "        model.train()\n",
    "        \n",
    "        # get the inputs; data is a list of [inputs, labels]\n",
    "        inputs, labels = data\n",
    "\n",
    "        # zero the parameter gradients\n",
    "        optimizer.zero_grad()\n",
    "\n",
    "        # forward + backward + optimize\n",
    "        outputs = model(inputs)\n",
    "        loss = criterion(outputs, labels)\n",
    "        loss.backward()\n",
    "        optimizer.step()\n",
    "\n",
    "        # print statistics\n",
    "        running_loss += loss.item()\n",
    "        if i % 100 == 99:    # print every 100 mini-batches\n",
    "            mean_loss = running_loss / 100\n",
    "            loss_history['train_loss'].append(mean_loss)\n",
    "            print('# mini-batch {}\\ntrain loss: {}'.format(\n",
    "                  i + 1, mean_loss))\n",
    "            running_loss = 0.0\n",
    "            \n",
    "            # evaluate on validation dataset\n",
    "            mean_loss, val_acc = evaluate(model, val_loader, len(val_dataset))\n",
    "            loss_history['val_loss'].append(mean_loss)\n",
    "                  \n",
    "            print(\"validation loss: {} validation accuracy: {}\\n\".format(mean_loss, val_acc))\n",
    "\n",
    "print('Finished Training')"
   ]
  },
  {
   "cell_type": "code",
   "execution_count": 8,
   "metadata": {},
   "outputs": [
    {
     "data": {
      "image/png": "[encoded data removed]",
      "text/plain": [
       "<Figure size 640x480 with 1 Axes>"
      ]
     },
     "metadata": {},
     "output_type": "display_data"
    }
   ],
   "source": [
    "plt.plot(loss_history['train_loss'], label='train_loss')\n",
    "plt.plot(loss_history['val_loss'], label='val_loss')\n",
    "plt.legend()\n",
    "plt.show()"
   ]
  },
  {
   "cell_type": "code",
   "execution_count": 9,
   "metadata": {},
   "outputs": [],
   "source": [
    "_, test_acc = evaluate(model, test_loader, len(test_dataset))"
   ]
  },
  {
   "cell_type": "code",
   "execution_count": 10,
   "metadata": {},
   "outputs": [
    {
     "name": "stdout",
     "output_type": "stream",
     "text": [
      "0.5487\n"
     ]
    }
   ],
   "source": [
    "print(test_acc)"
   ]
  },
  {
   "cell_type": "code",
   "execution_count": 20,
   "metadata": {},
   "outputs": [
    {
     "data": {
      "text/plain": [
       "==========================================================================================\n",
       "Layer (type:depth-idx)                   Output Shape              Param #\n",
       "==========================================================================================\n",
       "Model                                    [1, 10]                   --\n",
       "├─Conv2d: 1-1                            [1, 6, 30, 30]            60\n",
       "├─Conv2d: 1-2                            [1, 16, 13, 13]           880\n",
       "├─Linear: 1-3                            [1, 120]                  69,240\n",
       "├─Linear: 1-4                            [1, 84]                   10,164\n",
       "├─Linear: 1-5                            [1, 10]                   850\n",
       "==========================================================================================\n",
       "Total params: 81,194\n",
       "Trainable params: 81,194\n",
       "Non-trainable params: 0\n",
       "Total mult-adds (M): 0.28\n",
       "==========================================================================================\n",
       "Input size (MB): 0.00\n",
       "Forward/backward pass size (MB): 0.07\n",
       "Params size (MB): 0.32\n",
       "Estimated Total Size (MB): 0.40\n",
       "=========================================================================================="
      ]
     },
     "execution_count": 20,
     "metadata": {},
     "output_type": "execute_result"
    }
   ],
   "source": [
    "from torchinfo import summary\n",
    "summary(model, (1, 1, 32, 32))"
   ]
  }
 ],
 "metadata": {
  "kernelspec": {
   "display_name": "intro-ml",
   "language": "python",
   "name": "python3"
  },
  "language_info": {
   "codemirror_mode": {
    "name": "ipython",
    "version": 3
   },
   "file_extension": ".py",
   "mimetype": "text/x-python",
   "name": "python",
   "nbconvert_exporter": "python",
   "pygments_lexer": "ipython3",
   "version": "3.11.2"
  }
 },
 "nbformat": 4,
 "nbformat_minor": 4
}
